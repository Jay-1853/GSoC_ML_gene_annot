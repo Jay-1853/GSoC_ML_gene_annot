{
 "cells": [
  {
   "cell_type": "code",
   "execution_count": 1,
   "metadata": {
    "collapsed": true
   },
   "outputs": [],
   "source": [
    "import pandas as pd\n",
    "from sklearn.model_selection import train_test_split\n",
    "from sklearn import preprocessing\n",
    "from sklearn.model_selection import StratifiedKFold\n",
    "from sklearn.metrics import accuracy_score, roc_auc_score, balanced_accuracy_score, precision_score, matthews_corrcoef, confusion_matrix\n",
    "from xgboost import XGBClassifier\n",
    "import numpy as np\n",
    "import statistics"
   ]
  },
  {
   "cell_type": "code",
   "execution_count": 2,
   "outputs": [],
   "source": [
    "np.random.seed(0)"
   ],
   "metadata": {
    "collapsed": false
   }
  },
  {
   "cell_type": "code",
   "execution_count": 3,
   "outputs": [],
   "source": [
    "df_source_annot_test = pd.read_csv(\"gene_annot_test.tsv\", sep=\"\\t\")"
   ],
   "metadata": {
    "collapsed": false
   }
  },
  {
   "cell_type": "code",
   "execution_count": 4,
   "outputs": [],
   "source": [
    "df_annot_test = df_source_annot_test.copy()"
   ],
   "metadata": {
    "collapsed": false
   }
  },
  {
   "cell_type": "markdown",
   "source": [
    "### We can notice that, apart from intron_sources, most of the features can be transformed to binary using Sklearn's LabelEncoder.\n",
    "We can see from the unique labels of intron_sources that there are only 3 types"
   ],
   "metadata": {
    "collapsed": false
   }
  },
  {
   "cell_type": "code",
   "execution_count": 5,
   "outputs": [
    {
     "data": {
      "text/plain": "array(['SLR,CLS', 'CLS', 'SLR', 'SLR,RAC', 'SLR,CLS,RAC', 'RAC',\n       'CLS,RAC'], dtype=object)"
     },
     "execution_count": 5,
     "metadata": {},
     "output_type": "execute_result"
    }
   ],
   "source": [
    "df_annot_test.intron_sources.unique()"
   ],
   "metadata": {
    "collapsed": false
   }
  },
  {
   "cell_type": "code",
   "execution_count": 6,
   "outputs": [
    {
     "data": {
      "text/plain": "                          coords   outcome   score  length prev_annot  \\\n0          chr1:261635-267302:-1  accepted     888    5668        yes   \n1          chr1:259026-261549:-1  accepted     650    2524        yes   \n2          chr1:732208-739802:-1  rejected       0    7595         no   \n3          chr1:720201-732016:-1  accepted       0   11816        yes   \n4          chr1:711923-720031:-1  accepted      27    8109        yes   \n...                          ...       ...     ...     ...        ...   \n11005   chrY:20582694-20584473:1  accepted  278936    1780        yes   \n11006   chrY:20584525-20588023:1  accepted  286043    3499        yes   \n11007   chrY:20588106-20589483:1  accepted  444721    1378        yes   \n11008   chrY:20589576-20592340:1  accepted  468983    2765        yes   \n11009  chrY:20726098-20734468:-1  accepted       9    8371         no   \n\n        transcript_source intron_sources splice_site  \\\n0                  SLRseq        SLR,CLS      GT..AG   \n1                  SLRseq        SLR,CLS      GT..AG   \n2      PacBio Capture-seq            CLS      GT..AG   \n3      PacBio Capture-seq            CLS      GT..AG   \n4      PacBio Capture-seq            CLS      GT..AG   \n...                   ...            ...         ...   \n11005  PacBio Capture-seq    SLR,CLS,RAC      GT..AG   \n11006  PacBio Capture-seq    SLR,CLS,RAC      GT..AG   \n11007  PacBio Capture-seq    SLR,CLS,RAC      GT..AG   \n11008  PacBio Capture-seq    SLR,CLS,RAC      GT..AG   \n11009  PacBio Capture-seq            CLS      GT..AG   \n\n                                        repeat_overlap ss_antisense  ...  \\\n0                              Type I Transposons/LINE           no  ...   \n1                              Type I Transposons/LINE           no  ...   \n2                              Type I Transposons/SINE           no  ...   \n3                                  Type II Transposons           no  ...   \n4                                           No overlap           no  ...   \n...                                                ...          ...  ...   \n11005                                       No overlap           no  ...   \n11006                                       No overlap           no  ...   \n11007                                       No overlap           no  ...   \n11008                                       No overlap           no  ...   \n11009  Type I Transposons/LINE,Type I Transposons/SINE           no  ...   \n\n      opp_strand false_ret_int       transcript_id  \\\n0             no            no  OTTHUMT00000499557   \n1             no            no  OTTHUMT00000499557   \n2             no            no  OTTHUMT00000500170   \n3             no            no  OTTHUMT00000500170   \n4             no            no  OTTHUMT00000500170   \n...          ...           ...                 ...   \n11005         no            no  OTTHUMT00000500440   \n11006         no            no  OTTHUMT00000500440   \n11007         no            no  OTTHUMT00000500440   \n11008         no            no  OTTHUMT00000500440   \n11009         no            no  OTTHUMT00000500305   \n\n                                  gtype    bbiotype rel_int_sup rel_int_sup_k  \\\n0      transcribed_processed_pseudogene  non-coding    0.311999      0.311999   \n1      transcribed_processed_pseudogene  non-coding   -0.311999     -0.311999   \n2      transcribed_processed_pseudogene  non-coding   -2.525729     -2.708050   \n3      transcribed_processed_pseudogene  non-coding   -2.525729     -2.931194   \n4      transcribed_processed_pseudogene  non-coding    1.216395      0.810930   \n...                                 ...         ...         ...           ...   \n11005                    protein_coding      coding   -0.141738     -0.364851   \n11006                    protein_coding      coding   -0.112146     -0.335259   \n11007                    protein_coding      coding    0.433606      0.210496   \n11008                    protein_coding      coding    0.503702      0.280593   \n11009                         comp_pipe       novel         NaN           NaN   \n\n      intron_sources_SLR  intron_sources_CLS  intron_sources_RAC  \n0                      1                   1                   0  \n1                      1                   1                   0  \n2                      0                   1                   0  \n3                      0                   1                   0  \n4                      0                   1                   0  \n...                  ...                 ...                 ...  \n11005                  1                   1                   1  \n11006                  1                   1                   1  \n11007                  1                   1                   1  \n11008                  1                   1                   1  \n11009                  0                   1                   0  \n\n[11010 rows x 23 columns]",
      "text/html": "<div>\n<style scoped>\n    .dataframe tbody tr th:only-of-type {\n        vertical-align: middle;\n    }\n\n    .dataframe tbody tr th {\n        vertical-align: top;\n    }\n\n    .dataframe thead th {\n        text-align: right;\n    }\n</style>\n<table border=\"1\" class=\"dataframe\">\n  <thead>\n    <tr style=\"text-align: right;\">\n      <th></th>\n      <th>coords</th>\n      <th>outcome</th>\n      <th>score</th>\n      <th>length</th>\n      <th>prev_annot</th>\n      <th>transcript_source</th>\n      <th>intron_sources</th>\n      <th>splice_site</th>\n      <th>repeat_overlap</th>\n      <th>ss_antisense</th>\n      <th>...</th>\n      <th>opp_strand</th>\n      <th>false_ret_int</th>\n      <th>transcript_id</th>\n      <th>gtype</th>\n      <th>bbiotype</th>\n      <th>rel_int_sup</th>\n      <th>rel_int_sup_k</th>\n      <th>intron_sources_SLR</th>\n      <th>intron_sources_CLS</th>\n      <th>intron_sources_RAC</th>\n    </tr>\n  </thead>\n  <tbody>\n    <tr>\n      <th>0</th>\n      <td>chr1:261635-267302:-1</td>\n      <td>accepted</td>\n      <td>888</td>\n      <td>5668</td>\n      <td>yes</td>\n      <td>SLRseq</td>\n      <td>SLR,CLS</td>\n      <td>GT..AG</td>\n      <td>Type I Transposons/LINE</td>\n      <td>no</td>\n      <td>...</td>\n      <td>no</td>\n      <td>no</td>\n      <td>OTTHUMT00000499557</td>\n      <td>transcribed_processed_pseudogene</td>\n      <td>non-coding</td>\n      <td>0.311999</td>\n      <td>0.311999</td>\n      <td>1</td>\n      <td>1</td>\n      <td>0</td>\n    </tr>\n    <tr>\n      <th>1</th>\n      <td>chr1:259026-261549:-1</td>\n      <td>accepted</td>\n      <td>650</td>\n      <td>2524</td>\n      <td>yes</td>\n      <td>SLRseq</td>\n      <td>SLR,CLS</td>\n      <td>GT..AG</td>\n      <td>Type I Transposons/LINE</td>\n      <td>no</td>\n      <td>...</td>\n      <td>no</td>\n      <td>no</td>\n      <td>OTTHUMT00000499557</td>\n      <td>transcribed_processed_pseudogene</td>\n      <td>non-coding</td>\n      <td>-0.311999</td>\n      <td>-0.311999</td>\n      <td>1</td>\n      <td>1</td>\n      <td>0</td>\n    </tr>\n    <tr>\n      <th>2</th>\n      <td>chr1:732208-739802:-1</td>\n      <td>rejected</td>\n      <td>0</td>\n      <td>7595</td>\n      <td>no</td>\n      <td>PacBio Capture-seq</td>\n      <td>CLS</td>\n      <td>GT..AG</td>\n      <td>Type I Transposons/SINE</td>\n      <td>no</td>\n      <td>...</td>\n      <td>no</td>\n      <td>no</td>\n      <td>OTTHUMT00000500170</td>\n      <td>transcribed_processed_pseudogene</td>\n      <td>non-coding</td>\n      <td>-2.525729</td>\n      <td>-2.708050</td>\n      <td>0</td>\n      <td>1</td>\n      <td>0</td>\n    </tr>\n    <tr>\n      <th>3</th>\n      <td>chr1:720201-732016:-1</td>\n      <td>accepted</td>\n      <td>0</td>\n      <td>11816</td>\n      <td>yes</td>\n      <td>PacBio Capture-seq</td>\n      <td>CLS</td>\n      <td>GT..AG</td>\n      <td>Type II Transposons</td>\n      <td>no</td>\n      <td>...</td>\n      <td>no</td>\n      <td>no</td>\n      <td>OTTHUMT00000500170</td>\n      <td>transcribed_processed_pseudogene</td>\n      <td>non-coding</td>\n      <td>-2.525729</td>\n      <td>-2.931194</td>\n      <td>0</td>\n      <td>1</td>\n      <td>0</td>\n    </tr>\n    <tr>\n      <th>4</th>\n      <td>chr1:711923-720031:-1</td>\n      <td>accepted</td>\n      <td>27</td>\n      <td>8109</td>\n      <td>yes</td>\n      <td>PacBio Capture-seq</td>\n      <td>CLS</td>\n      <td>GT..AG</td>\n      <td>No overlap</td>\n      <td>no</td>\n      <td>...</td>\n      <td>no</td>\n      <td>no</td>\n      <td>OTTHUMT00000500170</td>\n      <td>transcribed_processed_pseudogene</td>\n      <td>non-coding</td>\n      <td>1.216395</td>\n      <td>0.810930</td>\n      <td>0</td>\n      <td>1</td>\n      <td>0</td>\n    </tr>\n    <tr>\n      <th>...</th>\n      <td>...</td>\n      <td>...</td>\n      <td>...</td>\n      <td>...</td>\n      <td>...</td>\n      <td>...</td>\n      <td>...</td>\n      <td>...</td>\n      <td>...</td>\n      <td>...</td>\n      <td>...</td>\n      <td>...</td>\n      <td>...</td>\n      <td>...</td>\n      <td>...</td>\n      <td>...</td>\n      <td>...</td>\n      <td>...</td>\n      <td>...</td>\n      <td>...</td>\n      <td>...</td>\n    </tr>\n    <tr>\n      <th>11005</th>\n      <td>chrY:20582694-20584473:1</td>\n      <td>accepted</td>\n      <td>278936</td>\n      <td>1780</td>\n      <td>yes</td>\n      <td>PacBio Capture-seq</td>\n      <td>SLR,CLS,RAC</td>\n      <td>GT..AG</td>\n      <td>No overlap</td>\n      <td>no</td>\n      <td>...</td>\n      <td>no</td>\n      <td>no</td>\n      <td>OTTHUMT00000500440</td>\n      <td>protein_coding</td>\n      <td>coding</td>\n      <td>-0.141738</td>\n      <td>-0.364851</td>\n      <td>1</td>\n      <td>1</td>\n      <td>1</td>\n    </tr>\n    <tr>\n      <th>11006</th>\n      <td>chrY:20584525-20588023:1</td>\n      <td>accepted</td>\n      <td>286043</td>\n      <td>3499</td>\n      <td>yes</td>\n      <td>PacBio Capture-seq</td>\n      <td>SLR,CLS,RAC</td>\n      <td>GT..AG</td>\n      <td>No overlap</td>\n      <td>no</td>\n      <td>...</td>\n      <td>no</td>\n      <td>no</td>\n      <td>OTTHUMT00000500440</td>\n      <td>protein_coding</td>\n      <td>coding</td>\n      <td>-0.112146</td>\n      <td>-0.335259</td>\n      <td>1</td>\n      <td>1</td>\n      <td>1</td>\n    </tr>\n    <tr>\n      <th>11007</th>\n      <td>chrY:20588106-20589483:1</td>\n      <td>accepted</td>\n      <td>444721</td>\n      <td>1378</td>\n      <td>yes</td>\n      <td>PacBio Capture-seq</td>\n      <td>SLR,CLS,RAC</td>\n      <td>GT..AG</td>\n      <td>No overlap</td>\n      <td>no</td>\n      <td>...</td>\n      <td>no</td>\n      <td>no</td>\n      <td>OTTHUMT00000500440</td>\n      <td>protein_coding</td>\n      <td>coding</td>\n      <td>0.433606</td>\n      <td>0.210496</td>\n      <td>1</td>\n      <td>1</td>\n      <td>1</td>\n    </tr>\n    <tr>\n      <th>11008</th>\n      <td>chrY:20589576-20592340:1</td>\n      <td>accepted</td>\n      <td>468983</td>\n      <td>2765</td>\n      <td>yes</td>\n      <td>PacBio Capture-seq</td>\n      <td>SLR,CLS,RAC</td>\n      <td>GT..AG</td>\n      <td>No overlap</td>\n      <td>no</td>\n      <td>...</td>\n      <td>no</td>\n      <td>no</td>\n      <td>OTTHUMT00000500440</td>\n      <td>protein_coding</td>\n      <td>coding</td>\n      <td>0.503702</td>\n      <td>0.280593</td>\n      <td>1</td>\n      <td>1</td>\n      <td>1</td>\n    </tr>\n    <tr>\n      <th>11009</th>\n      <td>chrY:20726098-20734468:-1</td>\n      <td>accepted</td>\n      <td>9</td>\n      <td>8371</td>\n      <td>no</td>\n      <td>PacBio Capture-seq</td>\n      <td>CLS</td>\n      <td>GT..AG</td>\n      <td>Type I Transposons/LINE,Type I Transposons/SINE</td>\n      <td>no</td>\n      <td>...</td>\n      <td>no</td>\n      <td>no</td>\n      <td>OTTHUMT00000500305</td>\n      <td>comp_pipe</td>\n      <td>novel</td>\n      <td>NaN</td>\n      <td>NaN</td>\n      <td>0</td>\n      <td>1</td>\n      <td>0</td>\n    </tr>\n  </tbody>\n</table>\n<p>11010 rows × 23 columns</p>\n</div>"
     },
     "execution_count": 6,
     "metadata": {},
     "output_type": "execute_result"
    }
   ],
   "source": [
    "df_annot_test[\"intron_sources_SLR\"] = df_annot_test[\"intron_sources\"].str.contains(\"SLR\").astype(int)\n",
    "df_annot_test[\"intron_sources_CLS\"] = df_annot_test[\"intron_sources\"].str.contains(\"CLS\").astype(int)\n",
    "df_annot_test[\"intron_sources_RAC\"] = df_annot_test[\"intron_sources\"].str.contains(\"RAC\").astype(int)\n",
    "df_annot_test"
   ],
   "metadata": {
    "collapsed": false
   }
  },
  {
   "cell_type": "markdown",
   "source": [
    "### We convert \"accepted\" and \"rejected\" to 1s and 0s, this facilitates the calculation of ROC curve"
   ],
   "metadata": {
    "collapsed": false
   }
  },
  {
   "cell_type": "code",
   "execution_count": 7,
   "outputs": [
    {
     "data": {
      "text/plain": "                          coords  outcome  score  length  prev_annot  \\\n0          chr1:261635-267302:-1        0    696    3524           1   \n1          chr1:259026-261549:-1        0    558    2130           1   \n2          chr1:732208-739802:-1        1      0    4005           0   \n3          chr1:720201-732016:-1        0      0    4609           1   \n4          chr1:711923-720031:-1        0     26    4092           1   \n...                          ...      ...    ...     ...         ...   \n11005   chrY:20582694-20584473:1        0   5548    1593           1   \n11006   chrY:20584525-20588023:1        0   5595    2703           1   \n11007   chrY:20588106-20589483:1        0   6348    1256           1   \n11008   chrY:20589576-20592340:1        0   6428    2279           1   \n11009  chrY:20726098-20734468:-1        0      8    4126           0   \n\n       transcript_source  intron_sources  splice_site  repeat_overlap  \\\n0                      3               4            2               9   \n1                      3               4            2               9   \n2                      1               0            2              20   \n3                      1               0            2              22   \n4                      1               0            2               2   \n...                  ...             ...          ...             ...   \n11005                  1               5            2               2   \n11006                  1               5            2               2   \n11007                  1               5            2               2   \n11008                  1               5            2               2   \n11009                  1               0            2              15   \n\n       ss_antisense  ...  opp_strand  false_ret_int  transcript_id  gtype  \\\n0                 0  ...           0              0            823      6   \n1                 0  ...           0              0            823      6   \n2                 0  ...           0              0           1434      6   \n3                 0  ...           0              0           1434      6   \n4                 0  ...           0              0           1434      6   \n...             ...  ...         ...            ...            ...    ...   \n11005             0  ...           0              0           1703      4   \n11006             0  ...           0              0           1703      4   \n11007             0  ...           0              0           1703      4   \n11008             0  ...           0              0           1703      4   \n11009             0  ...           0              0           1569      0   \n\n       bbiotype  rel_int_sup  rel_int_sup_k  intron_sources_SLR  \\\n0             1         7185           7199                   1   \n1             1         3479           3283                   1   \n2             1         1629           1496                   0   \n3             1         1629           1399                   0   \n4             1         9330           8260                   0   \n...         ...          ...            ...                 ...   \n11005         0         4092           3128                   1   \n11006         0         4275           3207                   1   \n11007         0         7867           6679                   1   \n11008         0         8162           7043                   1   \n11009         2         9921           8598                   0   \n\n       intron_sources_CLS  intron_sources_RAC  \n0                       1                   0  \n1                       1                   0  \n2                       1                   0  \n3                       1                   0  \n4                       1                   0  \n...                   ...                 ...  \n11005                   1                   1  \n11006                   1                   1  \n11007                   1                   1  \n11008                   1                   1  \n11009                   1                   0  \n\n[11010 rows x 23 columns]",
      "text/html": "<div>\n<style scoped>\n    .dataframe tbody tr th:only-of-type {\n        vertical-align: middle;\n    }\n\n    .dataframe tbody tr th {\n        vertical-align: top;\n    }\n\n    .dataframe thead th {\n        text-align: right;\n    }\n</style>\n<table border=\"1\" class=\"dataframe\">\n  <thead>\n    <tr style=\"text-align: right;\">\n      <th></th>\n      <th>coords</th>\n      <th>outcome</th>\n      <th>score</th>\n      <th>length</th>\n      <th>prev_annot</th>\n      <th>transcript_source</th>\n      <th>intron_sources</th>\n      <th>splice_site</th>\n      <th>repeat_overlap</th>\n      <th>ss_antisense</th>\n      <th>...</th>\n      <th>opp_strand</th>\n      <th>false_ret_int</th>\n      <th>transcript_id</th>\n      <th>gtype</th>\n      <th>bbiotype</th>\n      <th>rel_int_sup</th>\n      <th>rel_int_sup_k</th>\n      <th>intron_sources_SLR</th>\n      <th>intron_sources_CLS</th>\n      <th>intron_sources_RAC</th>\n    </tr>\n  </thead>\n  <tbody>\n    <tr>\n      <th>0</th>\n      <td>chr1:261635-267302:-1</td>\n      <td>0</td>\n      <td>696</td>\n      <td>3524</td>\n      <td>1</td>\n      <td>3</td>\n      <td>4</td>\n      <td>2</td>\n      <td>9</td>\n      <td>0</td>\n      <td>...</td>\n      <td>0</td>\n      <td>0</td>\n      <td>823</td>\n      <td>6</td>\n      <td>1</td>\n      <td>7185</td>\n      <td>7199</td>\n      <td>1</td>\n      <td>1</td>\n      <td>0</td>\n    </tr>\n    <tr>\n      <th>1</th>\n      <td>chr1:259026-261549:-1</td>\n      <td>0</td>\n      <td>558</td>\n      <td>2130</td>\n      <td>1</td>\n      <td>3</td>\n      <td>4</td>\n      <td>2</td>\n      <td>9</td>\n      <td>0</td>\n      <td>...</td>\n      <td>0</td>\n      <td>0</td>\n      <td>823</td>\n      <td>6</td>\n      <td>1</td>\n      <td>3479</td>\n      <td>3283</td>\n      <td>1</td>\n      <td>1</td>\n      <td>0</td>\n    </tr>\n    <tr>\n      <th>2</th>\n      <td>chr1:732208-739802:-1</td>\n      <td>1</td>\n      <td>0</td>\n      <td>4005</td>\n      <td>0</td>\n      <td>1</td>\n      <td>0</td>\n      <td>2</td>\n      <td>20</td>\n      <td>0</td>\n      <td>...</td>\n      <td>0</td>\n      <td>0</td>\n      <td>1434</td>\n      <td>6</td>\n      <td>1</td>\n      <td>1629</td>\n      <td>1496</td>\n      <td>0</td>\n      <td>1</td>\n      <td>0</td>\n    </tr>\n    <tr>\n      <th>3</th>\n      <td>chr1:720201-732016:-1</td>\n      <td>0</td>\n      <td>0</td>\n      <td>4609</td>\n      <td>1</td>\n      <td>1</td>\n      <td>0</td>\n      <td>2</td>\n      <td>22</td>\n      <td>0</td>\n      <td>...</td>\n      <td>0</td>\n      <td>0</td>\n      <td>1434</td>\n      <td>6</td>\n      <td>1</td>\n      <td>1629</td>\n      <td>1399</td>\n      <td>0</td>\n      <td>1</td>\n      <td>0</td>\n    </tr>\n    <tr>\n      <th>4</th>\n      <td>chr1:711923-720031:-1</td>\n      <td>0</td>\n      <td>26</td>\n      <td>4092</td>\n      <td>1</td>\n      <td>1</td>\n      <td>0</td>\n      <td>2</td>\n      <td>2</td>\n      <td>0</td>\n      <td>...</td>\n      <td>0</td>\n      <td>0</td>\n      <td>1434</td>\n      <td>6</td>\n      <td>1</td>\n      <td>9330</td>\n      <td>8260</td>\n      <td>0</td>\n      <td>1</td>\n      <td>0</td>\n    </tr>\n    <tr>\n      <th>...</th>\n      <td>...</td>\n      <td>...</td>\n      <td>...</td>\n      <td>...</td>\n      <td>...</td>\n      <td>...</td>\n      <td>...</td>\n      <td>...</td>\n      <td>...</td>\n      <td>...</td>\n      <td>...</td>\n      <td>...</td>\n      <td>...</td>\n      <td>...</td>\n      <td>...</td>\n      <td>...</td>\n      <td>...</td>\n      <td>...</td>\n      <td>...</td>\n      <td>...</td>\n      <td>...</td>\n    </tr>\n    <tr>\n      <th>11005</th>\n      <td>chrY:20582694-20584473:1</td>\n      <td>0</td>\n      <td>5548</td>\n      <td>1593</td>\n      <td>1</td>\n      <td>1</td>\n      <td>5</td>\n      <td>2</td>\n      <td>2</td>\n      <td>0</td>\n      <td>...</td>\n      <td>0</td>\n      <td>0</td>\n      <td>1703</td>\n      <td>4</td>\n      <td>0</td>\n      <td>4092</td>\n      <td>3128</td>\n      <td>1</td>\n      <td>1</td>\n      <td>1</td>\n    </tr>\n    <tr>\n      <th>11006</th>\n      <td>chrY:20584525-20588023:1</td>\n      <td>0</td>\n      <td>5595</td>\n      <td>2703</td>\n      <td>1</td>\n      <td>1</td>\n      <td>5</td>\n      <td>2</td>\n      <td>2</td>\n      <td>0</td>\n      <td>...</td>\n      <td>0</td>\n      <td>0</td>\n      <td>1703</td>\n      <td>4</td>\n      <td>0</td>\n      <td>4275</td>\n      <td>3207</td>\n      <td>1</td>\n      <td>1</td>\n      <td>1</td>\n    </tr>\n    <tr>\n      <th>11007</th>\n      <td>chrY:20588106-20589483:1</td>\n      <td>0</td>\n      <td>6348</td>\n      <td>1256</td>\n      <td>1</td>\n      <td>1</td>\n      <td>5</td>\n      <td>2</td>\n      <td>2</td>\n      <td>0</td>\n      <td>...</td>\n      <td>0</td>\n      <td>0</td>\n      <td>1703</td>\n      <td>4</td>\n      <td>0</td>\n      <td>7867</td>\n      <td>6679</td>\n      <td>1</td>\n      <td>1</td>\n      <td>1</td>\n    </tr>\n    <tr>\n      <th>11008</th>\n      <td>chrY:20589576-20592340:1</td>\n      <td>0</td>\n      <td>6428</td>\n      <td>2279</td>\n      <td>1</td>\n      <td>1</td>\n      <td>5</td>\n      <td>2</td>\n      <td>2</td>\n      <td>0</td>\n      <td>...</td>\n      <td>0</td>\n      <td>0</td>\n      <td>1703</td>\n      <td>4</td>\n      <td>0</td>\n      <td>8162</td>\n      <td>7043</td>\n      <td>1</td>\n      <td>1</td>\n      <td>1</td>\n    </tr>\n    <tr>\n      <th>11009</th>\n      <td>chrY:20726098-20734468:-1</td>\n      <td>0</td>\n      <td>8</td>\n      <td>4126</td>\n      <td>0</td>\n      <td>1</td>\n      <td>0</td>\n      <td>2</td>\n      <td>15</td>\n      <td>0</td>\n      <td>...</td>\n      <td>0</td>\n      <td>0</td>\n      <td>1569</td>\n      <td>0</td>\n      <td>2</td>\n      <td>9921</td>\n      <td>8598</td>\n      <td>0</td>\n      <td>1</td>\n      <td>0</td>\n    </tr>\n  </tbody>\n</table>\n<p>11010 rows × 23 columns</p>\n</div>"
     },
     "execution_count": 7,
     "metadata": {},
     "output_type": "execute_result"
    }
   ],
   "source": [
    "\n",
    "for col in df_annot_test.drop([\"coords\"], axis=1).columns:\n",
    "    le = preprocessing.LabelEncoder()\n",
    "    le.fit(df_annot_test[col])\n",
    "    df_annot_test[col] = le.transform(df_annot_test[col])\n",
    "\n",
    "df_annot_test"
   ],
   "metadata": {
    "collapsed": false
   }
  },
  {
   "cell_type": "code",
   "execution_count": 8,
   "outputs": [
    {
     "data": {
      "text/plain": "Index(['coords', 'outcome', 'score', 'length', 'prev_annot',\n       'transcript_source', 'intron_sources', 'splice_site', 'repeat_overlap',\n       'ss_antisense', 'rej_reason', 'annot_match', 'incorrect_locus',\n       'opp_strand', 'false_ret_int', 'transcript_id', 'gtype', 'bbiotype',\n       'rel_int_sup', 'rel_int_sup_k', 'intron_sources_SLR',\n       'intron_sources_CLS', 'intron_sources_RAC'],\n      dtype='object')"
     },
     "execution_count": 8,
     "metadata": {},
     "output_type": "execute_result"
    }
   ],
   "source": [
    "df_annot_test.columns"
   ],
   "metadata": {
    "collapsed": false
   }
  },
  {
   "cell_type": "markdown",
   "source": [
    "### We then select all the relevant column(s) for the input features and the label"
   ],
   "metadata": {
    "collapsed": false
   }
  },
  {
   "cell_type": "code",
   "execution_count": 9,
   "outputs": [
    {
     "data": {
      "text/plain": "       score  length  prev_annot  transcript_source  intron_sources  \\\n0        696    3524           1                  3               4   \n1        558    2130           1                  3               4   \n2          0    4005           0                  1               0   \n3          0    4609           1                  1               0   \n4         26    4092           1                  1               0   \n...      ...     ...         ...                ...             ...   \n11005   5548    1593           1                  1               5   \n11006   5595    2703           1                  1               5   \n11007   6348    1256           1                  1               5   \n11008   6428    2279           1                  1               5   \n11009      8    4126           0                  1               0   \n\n       splice_site  repeat_overlap  ss_antisense  annot_match  \\\n0                2               9             0            1   \n1                2               9             0            1   \n2                2              20             0            0   \n3                2              22             0            0   \n4                2               2             0            0   \n...            ...             ...           ...          ...   \n11005            2               2             0            1   \n11006            2               2             0            1   \n11007            2               2             0            1   \n11008            2               2             0            1   \n11009            2              15             0            0   \n\n       incorrect_locus  opp_strand  false_ret_int  bbiotype  rel_int_sup  \\\n0                    0           0              0         1         7185   \n1                    0           0              0         1         3479   \n2                    0           0              0         1         1629   \n3                    0           0              0         1         1629   \n4                    0           0              0         1         9330   \n...                ...         ...            ...       ...          ...   \n11005                0           0              0         0         4092   \n11006                0           0              0         0         4275   \n11007                0           0              0         0         7867   \n11008                0           0              0         0         8162   \n11009                0           0              0         2         9921   \n\n       rel_int_sup_k  intron_sources_SLR  intron_sources_CLS  \\\n0               7199                   1                   1   \n1               3283                   1                   1   \n2               1496                   0                   1   \n3               1399                   0                   1   \n4               8260                   0                   1   \n...              ...                 ...                 ...   \n11005           3128                   1                   1   \n11006           3207                   1                   1   \n11007           6679                   1                   1   \n11008           7043                   1                   1   \n11009           8598                   0                   1   \n\n       intron_sources_RAC  \n0                       0  \n1                       0  \n2                       0  \n3                       0  \n4                       0  \n...                   ...  \n11005                   1  \n11006                   1  \n11007                   1  \n11008                   1  \n11009                   0  \n\n[11010 rows x 18 columns]",
      "text/html": "<div>\n<style scoped>\n    .dataframe tbody tr th:only-of-type {\n        vertical-align: middle;\n    }\n\n    .dataframe tbody tr th {\n        vertical-align: top;\n    }\n\n    .dataframe thead th {\n        text-align: right;\n    }\n</style>\n<table border=\"1\" class=\"dataframe\">\n  <thead>\n    <tr style=\"text-align: right;\">\n      <th></th>\n      <th>score</th>\n      <th>length</th>\n      <th>prev_annot</th>\n      <th>transcript_source</th>\n      <th>intron_sources</th>\n      <th>splice_site</th>\n      <th>repeat_overlap</th>\n      <th>ss_antisense</th>\n      <th>annot_match</th>\n      <th>incorrect_locus</th>\n      <th>opp_strand</th>\n      <th>false_ret_int</th>\n      <th>bbiotype</th>\n      <th>rel_int_sup</th>\n      <th>rel_int_sup_k</th>\n      <th>intron_sources_SLR</th>\n      <th>intron_sources_CLS</th>\n      <th>intron_sources_RAC</th>\n    </tr>\n  </thead>\n  <tbody>\n    <tr>\n      <th>0</th>\n      <td>696</td>\n      <td>3524</td>\n      <td>1</td>\n      <td>3</td>\n      <td>4</td>\n      <td>2</td>\n      <td>9</td>\n      <td>0</td>\n      <td>1</td>\n      <td>0</td>\n      <td>0</td>\n      <td>0</td>\n      <td>1</td>\n      <td>7185</td>\n      <td>7199</td>\n      <td>1</td>\n      <td>1</td>\n      <td>0</td>\n    </tr>\n    <tr>\n      <th>1</th>\n      <td>558</td>\n      <td>2130</td>\n      <td>1</td>\n      <td>3</td>\n      <td>4</td>\n      <td>2</td>\n      <td>9</td>\n      <td>0</td>\n      <td>1</td>\n      <td>0</td>\n      <td>0</td>\n      <td>0</td>\n      <td>1</td>\n      <td>3479</td>\n      <td>3283</td>\n      <td>1</td>\n      <td>1</td>\n      <td>0</td>\n    </tr>\n    <tr>\n      <th>2</th>\n      <td>0</td>\n      <td>4005</td>\n      <td>0</td>\n      <td>1</td>\n      <td>0</td>\n      <td>2</td>\n      <td>20</td>\n      <td>0</td>\n      <td>0</td>\n      <td>0</td>\n      <td>0</td>\n      <td>0</td>\n      <td>1</td>\n      <td>1629</td>\n      <td>1496</td>\n      <td>0</td>\n      <td>1</td>\n      <td>0</td>\n    </tr>\n    <tr>\n      <th>3</th>\n      <td>0</td>\n      <td>4609</td>\n      <td>1</td>\n      <td>1</td>\n      <td>0</td>\n      <td>2</td>\n      <td>22</td>\n      <td>0</td>\n      <td>0</td>\n      <td>0</td>\n      <td>0</td>\n      <td>0</td>\n      <td>1</td>\n      <td>1629</td>\n      <td>1399</td>\n      <td>0</td>\n      <td>1</td>\n      <td>0</td>\n    </tr>\n    <tr>\n      <th>4</th>\n      <td>26</td>\n      <td>4092</td>\n      <td>1</td>\n      <td>1</td>\n      <td>0</td>\n      <td>2</td>\n      <td>2</td>\n      <td>0</td>\n      <td>0</td>\n      <td>0</td>\n      <td>0</td>\n      <td>0</td>\n      <td>1</td>\n      <td>9330</td>\n      <td>8260</td>\n      <td>0</td>\n      <td>1</td>\n      <td>0</td>\n    </tr>\n    <tr>\n      <th>...</th>\n      <td>...</td>\n      <td>...</td>\n      <td>...</td>\n      <td>...</td>\n      <td>...</td>\n      <td>...</td>\n      <td>...</td>\n      <td>...</td>\n      <td>...</td>\n      <td>...</td>\n      <td>...</td>\n      <td>...</td>\n      <td>...</td>\n      <td>...</td>\n      <td>...</td>\n      <td>...</td>\n      <td>...</td>\n      <td>...</td>\n    </tr>\n    <tr>\n      <th>11005</th>\n      <td>5548</td>\n      <td>1593</td>\n      <td>1</td>\n      <td>1</td>\n      <td>5</td>\n      <td>2</td>\n      <td>2</td>\n      <td>0</td>\n      <td>1</td>\n      <td>0</td>\n      <td>0</td>\n      <td>0</td>\n      <td>0</td>\n      <td>4092</td>\n      <td>3128</td>\n      <td>1</td>\n      <td>1</td>\n      <td>1</td>\n    </tr>\n    <tr>\n      <th>11006</th>\n      <td>5595</td>\n      <td>2703</td>\n      <td>1</td>\n      <td>1</td>\n      <td>5</td>\n      <td>2</td>\n      <td>2</td>\n      <td>0</td>\n      <td>1</td>\n      <td>0</td>\n      <td>0</td>\n      <td>0</td>\n      <td>0</td>\n      <td>4275</td>\n      <td>3207</td>\n      <td>1</td>\n      <td>1</td>\n      <td>1</td>\n    </tr>\n    <tr>\n      <th>11007</th>\n      <td>6348</td>\n      <td>1256</td>\n      <td>1</td>\n      <td>1</td>\n      <td>5</td>\n      <td>2</td>\n      <td>2</td>\n      <td>0</td>\n      <td>1</td>\n      <td>0</td>\n      <td>0</td>\n      <td>0</td>\n      <td>0</td>\n      <td>7867</td>\n      <td>6679</td>\n      <td>1</td>\n      <td>1</td>\n      <td>1</td>\n    </tr>\n    <tr>\n      <th>11008</th>\n      <td>6428</td>\n      <td>2279</td>\n      <td>1</td>\n      <td>1</td>\n      <td>5</td>\n      <td>2</td>\n      <td>2</td>\n      <td>0</td>\n      <td>1</td>\n      <td>0</td>\n      <td>0</td>\n      <td>0</td>\n      <td>0</td>\n      <td>8162</td>\n      <td>7043</td>\n      <td>1</td>\n      <td>1</td>\n      <td>1</td>\n    </tr>\n    <tr>\n      <th>11009</th>\n      <td>8</td>\n      <td>4126</td>\n      <td>0</td>\n      <td>1</td>\n      <td>0</td>\n      <td>2</td>\n      <td>15</td>\n      <td>0</td>\n      <td>0</td>\n      <td>0</td>\n      <td>0</td>\n      <td>0</td>\n      <td>2</td>\n      <td>9921</td>\n      <td>8598</td>\n      <td>0</td>\n      <td>1</td>\n      <td>0</td>\n    </tr>\n  </tbody>\n</table>\n<p>11010 rows × 18 columns</p>\n</div>"
     },
     "execution_count": 9,
     "metadata": {},
     "output_type": "execute_result"
    }
   ],
   "source": [
    "df_annot_test_y = df_annot_test[\"outcome\"]\n",
    "\n",
    "# Drop the columns that might not be available prior to manual gene annotation or irrelevant to ML\n",
    "df_annot_test_X_1 = df_annot_test.drop([\"coords\", \"outcome\", \"transcript_id\", \"gtype\", \"rej_reason\"], axis=1)\n",
    "df_annot_test_X_1"
   ],
   "metadata": {
    "collapsed": false
   }
  },
  {
   "cell_type": "markdown",
   "source": [
    "# 1. We first test the cross-validation performance of this dataset without any feature engineering"
   ],
   "metadata": {
    "collapsed": false
   }
  },
  {
   "cell_type": "code",
   "execution_count": 10,
   "outputs": [],
   "source": [
    "# Split the dataset to 9:1 Train/Val and Test set\n",
    "X_train_val, X_test, y_train_val, y_test = train_test_split(df_annot_test_X_1, df_annot_test_y, stratify=df_annot_test_y, test_size=0.1, shuffle=True)"
   ],
   "metadata": {
    "collapsed": false
   }
  },
  {
   "cell_type": "code",
   "execution_count": 11,
   "outputs": [],
   "source": [
    "cv_acc_list = []\n",
    "cv_ba_acc_list = []\n",
    "cv_rocauc_list = []\n",
    "cv_precision_list = []\n",
    "cv_mcc_list = []\n",
    "cv_specificity_list = []\n",
    "cv_sensitivity_list = []"
   ],
   "metadata": {
    "collapsed": false
   }
  },
  {
   "cell_type": "code",
   "execution_count": 12,
   "outputs": [],
   "source": [
    "skf = StratifiedKFold(n_splits=5)\n",
    "skf.get_n_splits(X_train_val, y_train_val)\n",
    "\n",
    "for train_index, val_index in skf.split(X_train_val, y_train_val):\n",
    "    X_train, X_val = X_train_val.iloc[train_index], X_train_val.iloc[val_index]\n",
    "    y_train, y_val = y_train_val.iloc[train_index].to_numpy().flatten(), y_train_val.iloc[val_index].to_numpy().flatten()\n",
    "\n",
    "    xgboost_clf = XGBClassifier(seed=0)\n",
    "    xgboost_clf.fit(X_train, y_train)\n",
    "\n",
    "    y_predict = xgboost_clf.predict_proba(X_val)\n",
    "    y_predict = y_predict[:, 1]\n",
    "    y_predict_class = list(map(round, y_predict))\n",
    "\n",
    "    test_acc = accuracy_score(y_val, y_predict_class)\n",
    "    test_rocauc = roc_auc_score(y_val, y_predict)\n",
    "    test_bal_acc = balanced_accuracy_score(y_val, y_predict_class)\n",
    "    test_precision = precision_score(y_val, y_predict_class)  # tp/(tp+fp)\n",
    "    test_mcc = matthews_corrcoef(y_val, y_predict_class)\n",
    "    tn, fp, fn, tp = confusion_matrix(y_val, y_predict_class).ravel()\n",
    "\n",
    "    # Adding the metrics to their list\n",
    "    cv_acc_list.append(test_acc)\n",
    "    cv_ba_acc_list.append(test_bal_acc)\n",
    "    cv_rocauc_list.append(test_rocauc)\n",
    "    cv_precision_list.append(test_precision)\n",
    "    cv_mcc_list.append(test_mcc)\n",
    "    cv_specificity_list.append(tn / (tn + fp))\n",
    "    cv_sensitivity_list.append(tp / (fn + tp))\n",
    "\n",
    "# return cv_acc_list, cv_ba_acc_list, cv_rocauc_list, cv_precision_list, cv_mcc_list, cv_specificity_list, cv_sensitivity_list"
   ],
   "metadata": {
    "collapsed": false
   }
  },
  {
   "cell_type": "code",
   "execution_count": 13,
   "outputs": [
    {
     "name": "stdout",
     "output_type": "stream",
     "text": [
      "------------------------------------------------------------------------------------------\n",
      "Stratified Cross-Validation Performance\n",
      "------------------------------------------------------------------------------------------\n",
      "Accuracy: 0.9776966958048994 \n",
      "AUCROC: 0.9847982221251834 \n",
      "MCC: 0.6797873515281583 \n",
      "Sensitivity: 0.6655312847093668 \n",
      "Specificity: 0.9897282320421967 \n",
      "Balanced Accuracy: 0.8276297583757818\n",
      "------------------------------------------------------------------------------------------\n",
      "Accuracy SD: 0.003915644493521446 \n",
      "AUCROC SD: 0.0020777466320006403 \n",
      "MCC SD: 0.05079253541609124 \n",
      "Sensitivity SD: 0.03997531656436102 \n",
      "Specificity SD: 0.003341844843864175 \n",
      "Balanced Accuracy SD: 0.02055704193838945\n"
     ]
    }
   ],
   "source": [
    "print(\"------------------------------------------------------------------------------------------\")\n",
    "print(\"Stratified Cross-Validation Performance\")\n",
    "print(\"------------------------------------------------------------------------------------------\")\n",
    "print(\"Accuracy: %s \\nAUCROC: %s \\nMCC: %s \\nSensitivity: %s \\nSpecificity: %s \\nBalanced Accuracy: %s\" % (\n",
    "        statistics.mean(cv_acc_list), statistics.mean(cv_rocauc_list), statistics.mean(cv_mcc_list),\n",
    "        statistics.mean(cv_sensitivity_list), statistics.mean(cv_specificity_list), statistics.mean(cv_ba_acc_list)))\n",
    "\n",
    "print(\"------------------------------------------------------------------------------------------\")\n",
    "print(\"Accuracy SD: %s \\nAUCROC SD: %s \\nMCC SD: %s \\nSensitivity SD: %s \\nSpecificity SD: %s \\nBalanced Accuracy SD: %s\" % (\n",
    "        np.std(cv_acc_list), np.std(cv_rocauc_list), np.std(cv_mcc_list),\n",
    "        np.std(cv_sensitivity_list), np.std(cv_specificity_list), np.std(cv_ba_acc_list)))"
   ],
   "metadata": {
    "collapsed": false
   }
  },
  {
   "cell_type": "markdown",
   "source": [
    "# 2. We then test the cross-validation performance of this dataset *WITH* some feature engineering"
   ],
   "metadata": {
    "collapsed": false
   }
  },
  {
   "cell_type": "code",
   "execution_count": 14,
   "outputs": [],
   "source": [
    "df_source_annot_test"
   ],
   "metadata": {
    "collapsed": false
   }
  },
  {
   "cell_type": "code",
   "execution_count": 15,
   "outputs": [],
   "source": [],
   "metadata": {
    "collapsed": false
   }
  }
 ],
 "metadata": {
  "kernelspec": {
   "display_name": "Python 3",
   "language": "python",
   "name": "python3"
  },
  "language_info": {
   "codemirror_mode": {
    "name": "ipython",
    "version": 2
   },
   "file_extension": ".py",
   "mimetype": "text/x-python",
   "name": "python",
   "nbconvert_exporter": "python",
   "pygments_lexer": "ipython2",
   "version": "2.7.6"
  }
 },
 "nbformat": 4,
 "nbformat_minor": 0
}
